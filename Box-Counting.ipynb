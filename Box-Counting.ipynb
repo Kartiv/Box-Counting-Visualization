{
 "cells": [
  {
   "cell_type": "code",
   "execution_count": 3,
   "metadata": {},
   "outputs": [],
   "source": [
    "import numpy as np\n",
    "import matplotlib.pyplot as plt\n",
    "from PIL import Image\n",
    "import json"
   ]
  },
  {
   "cell_type": "code",
   "execution_count": 4,
   "metadata": {},
   "outputs": [],
   "source": [
    "def boxCount(im, eps):\n",
    "    n = len(im);\n",
    "    q = int(n/eps)\n",
    "    r = n-q*eps\n",
    "\n",
    "    N = 0;\n",
    "    \n",
    "    for br in range(q):\n",
    "        for bc in range(q):\n",
    "\n",
    "            c = im[br*eps][bc*eps]\n",
    "            flag = True;\n",
    "            for i in range(eps):\n",
    "                if(not flag):\n",
    "                    break;\n",
    "                for j in range(eps):\n",
    "                    if im[br*eps+i][bc*eps+j] != c:\n",
    "                        N+=1;\n",
    "                        flag = False;\n",
    "                        break;\n",
    "    return N\n",
    "\n",
    "\n",
    "def factors(n):\n",
    "    a = [];\n",
    "    for i in range(2, int(n**0.5)+1):\n",
    "        if(n%i==0):\n",
    "            a.append(i)\n",
    "            if(i!=n/i):\n",
    "                a.append(int(n/i))\n",
    "    a.sort()\n",
    "    return np.array(a)\n",
    "        "
   ]
  },
  {
   "cell_type": "markdown",
   "metadata": {},
   "source": [
    "## New Json"
   ]
  },
  {
   "cell_type": "code",
   "execution_count": 5,
   "metadata": {},
   "outputs": [],
   "source": [
    "from scipy.optimize import curve_fit"
   ]
  },
  {
   "cell_type": "code",
   "execution_count": 6,
   "metadata": {},
   "outputs": [
    {
     "data": {
      "text/plain": [
       "1.0471781303102434"
      ]
     },
     "execution_count": 6,
     "metadata": {},
     "output_type": "execute_result"
    }
   ],
   "source": [
    "def linear(x, a, b):\n",
    "    return a*x+b\n",
    "\n",
    "x = [1.1,2.2,2.9,4.1,4.9]\n",
    "y= [2,3,4,5,6]\n",
    "\n",
    "curve_fit(linear,x,y)[0][0]"
   ]
  },
  {
   "cell_type": "code",
   "execution_count": 7,
   "metadata": {},
   "outputs": [],
   "source": [
    "dimList = [];\n",
    "x0 = factors(800);\n",
    "x = np.log(x0);\n",
    "\n",
    "for c in range(690):\n",
    "    im = open('./Data and Picture Drawing/Total Data/data3/' + str (c) + '.json')\n",
    "    data = json.load(im)\n",
    "\n",
    "    y = [];\n",
    "    for i in x0:\n",
    "        y.append(boxCount(data,i))\n",
    "    \n",
    "    dimList.append(-curve_fit(linear,x, np.log(y))[0][0])\n"
   ]
  },
  {
   "cell_type": "code",
   "execution_count": 8,
   "metadata": {},
   "outputs": [
    {
     "ename": "FileNotFoundError",
     "evalue": "[Errno 2] No such file or directory: './Data and Picture Drawing/Total Data/data6/660.json'",
     "output_type": "error",
     "traceback": [
      "\u001b[1;31m---------------------------------------------------------------------------\u001b[0m",
      "\u001b[1;31mFileNotFoundError\u001b[0m                         Traceback (most recent call last)",
      "\u001b[1;32m<ipython-input-8-6192f900ce51>\u001b[0m in \u001b[0;36m<module>\u001b[1;34m\u001b[0m\n\u001b[0;32m      1\u001b[0m \u001b[1;32mfor\u001b[0m \u001b[0mc\u001b[0m \u001b[1;32min\u001b[0m \u001b[0mrange\u001b[0m\u001b[1;33m(\u001b[0m\u001b[1;36m690\u001b[0m\u001b[1;33m)\u001b[0m\u001b[1;33m:\u001b[0m\u001b[1;33m\u001b[0m\u001b[1;33m\u001b[0m\u001b[0m\n\u001b[1;32m----> 2\u001b[1;33m     \u001b[0mim\u001b[0m \u001b[1;33m=\u001b[0m \u001b[0mopen\u001b[0m\u001b[1;33m(\u001b[0m\u001b[1;34m'./Data and Picture Drawing/Total Data/data6/'\u001b[0m \u001b[1;33m+\u001b[0m \u001b[0mstr\u001b[0m \u001b[1;33m(\u001b[0m\u001b[0mc\u001b[0m\u001b[1;33m)\u001b[0m \u001b[1;33m+\u001b[0m \u001b[1;34m'.json'\u001b[0m\u001b[1;33m)\u001b[0m\u001b[1;33m\u001b[0m\u001b[1;33m\u001b[0m\u001b[0m\n\u001b[0m\u001b[0;32m      3\u001b[0m     \u001b[0mdata\u001b[0m \u001b[1;33m=\u001b[0m \u001b[0mjson\u001b[0m\u001b[1;33m.\u001b[0m\u001b[0mload\u001b[0m\u001b[1;33m(\u001b[0m\u001b[0mim\u001b[0m\u001b[1;33m)\u001b[0m\u001b[1;33m\u001b[0m\u001b[1;33m\u001b[0m\u001b[0m\n\u001b[0;32m      4\u001b[0m \u001b[1;33m\u001b[0m\u001b[0m\n\u001b[0;32m      5\u001b[0m     \u001b[0my\u001b[0m \u001b[1;33m=\u001b[0m \u001b[1;33m[\u001b[0m\u001b[1;33m]\u001b[0m\u001b[1;33m;\u001b[0m\u001b[1;33m\u001b[0m\u001b[1;33m\u001b[0m\u001b[0m\n",
      "\u001b[1;31mFileNotFoundError\u001b[0m: [Errno 2] No such file or directory: './Data and Picture Drawing/Total Data/data6/660.json'"
     ]
    }
   ],
   "source": [
    "for c in range(660):\n",
    "    im = open('./Data and Picture Drawing/Total Data/data6/' + str (c) + '.json')\n",
    "    data = json.load(im)\n",
    "\n",
    "    y = [];\n",
    "    for i in x0:\n",
    "        y.append(boxCount(data,i))\n",
    "    \n",
    "    dimList.append(-curve_fit(linear,x, np.log(y))[0][0])\n"
   ]
  },
  {
   "cell_type": "code",
   "execution_count": 14,
   "metadata": {},
   "outputs": [
    {
     "data": {
      "text/plain": [
       "[<matplotlib.lines.Line2D at 0x1a7dcc54eb0>]"
      ]
     },
     "execution_count": 14,
     "metadata": {},
     "output_type": "execute_result"
    },
    {
     "data": {
      "image/png": "[encoded data removed]",
      "text/plain": [
       "<Figure size 360x144 with 1 Axes>"
      ]
     },
     "metadata": {},
     "output_type": "display_data"
    }
   ],
   "source": [
    "fig, ax = plt.subplots(figsize = (5,2))\n",
    "\n",
    "plt.subplots_adjust(top = 1.4);\n",
    "\n",
    "#fig.set_facecolor('blue') ##Set patch color of entire figure\n",
    "fig.set_facecolor('#424242')\n",
    "ax.set_title('Fractal Dimension - Magnet Strength', fontsize = 20);\n",
    "ax.set_xlabel('Dipole Moment', fontsize = 15);\n",
    "ax.set_ylabel('Dimension', fontsize = 15);\n",
    "ax.set_facecolor('#595959')\n",
    "\n",
    "ax.scatter(np.linspace(0,41.4, 690+660), dimList, s=6, color = \"gold\")\n",
    "ax.plot(np.linspace(0,41.4, 690+660), dimList, color=\"orange\")"
   ]
  },
  {
   "cell_type": "code",
   "execution_count": null,
   "metadata": {},
   "outputs": [],
   "source": []
  },
  {
   "cell_type": "code",
   "execution_count": 20,
   "metadata": {},
   "outputs": [
    {
     "name": "stderr",
     "output_type": "stream",
     "text": [
      "<ipython-input-20-527685188a9d>:8: RuntimeWarning: divide by zero encountered in log\n",
      "  plt.scatter(np.log(x),np.log(y))\n"
     ]
    },
    {
     "data": {
      "text/plain": [
       "[<matplotlib.lines.Line2D at 0x1bf08060130>]"
      ]
     },
     "execution_count": 20,
     "metadata": {},
     "output_type": "execute_result"
    },
    {
     "data": {
      "image/png": "[encoded data removed]",
      "text/plain": [
       "<Figure size 432x288 with 1 Axes>"
      ]
     },
     "metadata": {
      "needs_background": "light"
     },
     "output_type": "display_data"
    }
   ],
   "source": [
    "data = json.load(open('./New Data/data1/' + str (100) + '.json'))\n",
    "x = factors(1600);\n",
    "y = [];\n",
    "for i in range(len(x)):\n",
    "    y.append(boxCount(data, x[i]))\n",
    "y = np.array(y)\n",
    "\n",
    "plt.scatter(np.log(x),np.log(y))\n",
    "plt.plot(np.linspace(0,7, 10), 14-1.871683632896994*np.linspace(0,7,10))"
   ]
  },
  {
   "cell_type": "markdown",
   "metadata": {},
   "source": [
    "## Standalone Image"
   ]
  },
  {
   "cell_type": "code",
   "execution_count": 84,
   "metadata": {},
   "outputs": [],
   "source": [
    "image = Image.open('Replica.png')\n",
    "im = np.asarray(image)\n",
    "\n",
    "fractal = []; #when opened like this there are different shades of yellow/red etc, this makes the picture uniform\n",
    "for i in range(len(im)):\n",
    "    fractal.append([])\n",
    "    for j in range(len(im[0])):\n",
    "        if(max(im[i][j])<100):\n",
    "            fractal[-1].append(3);\n",
    "        else:\n",
    "            fractal[-1].append(np.argmax(im[i][j][:3]))\n",
    "            \n",
    "fractal = np.array(fractal)"
   ]
  },
  {
   "cell_type": "code",
   "execution_count": 86,
   "metadata": {},
   "outputs": [],
   "source": [
    "x = factors(1600);\n",
    "y = [];\n",
    "for i in range(len(x)):\n",
    "    y.append(boxCount(fractal, x[i]))\n",
    "y = np.array(y)"
   ]
  },
  {
   "cell_type": "code",
   "execution_count": 87,
   "metadata": {},
   "outputs": [
    {
     "data": {
      "text/plain": [
       "[<matplotlib.lines.Line2D at 0x221aec1a160>]"
      ]
     },
     "execution_count": 87,
     "metadata": {},
     "output_type": "execute_result"
    },
    {
     "data": {
      "image/png": "[encoded data removed]",
      "text/plain": [
       "<Figure size 432x288 with 1 Axes>"
      ]
     },
     "metadata": {
      "needs_background": "light"
     },
     "output_type": "display_data"
    }
   ],
   "source": [
    "plt.scatter(np.log(x),np.log(y))\n",
    "plt.plot(np.linspace(0,7, 10), 14-1.871683632896994*np.linspace(0,7,10))"
   ]
  },
  {
   "cell_type": "code",
   "execution_count": 88,
   "metadata": {},
   "outputs": [
    {
     "data": {
      "text/plain": [
       "1.871683632896994"
      ]
     },
     "execution_count": 88,
     "metadata": {},
     "output_type": "execute_result"
    }
   ],
   "source": [
    "dim = -(np.log(y[1])-np.log(y[-1]))/(np.log(x[1])-np.log(x[-1]))\n",
    "dim"
   ]
  },
  {
   "cell_type": "markdown",
   "metadata": {},
   "source": [
    "## Old JSON"
   ]
  },
  {
   "cell_type": "code",
   "execution_count": 41,
   "metadata": {},
   "outputs": [],
   "source": [
    "dimList = [];\n",
    "for c in range(2000):\n",
    "    im = open('./beegboi/pp' + str (4000 + c) + '.json')\n",
    "    data = json.load(im)\n",
    "    newdata = []\n",
    "    for i in range(len(data)-1):\n",
    "        newdata.append([])\n",
    "        for j in range(len(data[0])):\n",
    "            a = 0;\n",
    "            if data[i][j] == \"red\":\n",
    "                a = 0;\n",
    "            elif data[i][j] ==\"blue\":\n",
    "                a = 1;\n",
    "            elif data[i][j] == \"black\":\n",
    "                a = 2;\n",
    "            else:\n",
    "                a = 3\n",
    "            newdata[-1].append(a)\n",
    "    newdata = np.array(newdata)\n",
    "    y0 = boxCount(newdata, 5);\n",
    "    y1 = boxCount(newdata,25);\n",
    "    dimList.append(-(np.log(y0)-np.log(y1))/(np.log(5)-np.log(25)))\n"
   ]
  },
  {
   "cell_type": "code",
   "execution_count": 45,
   "metadata": {},
   "outputs": [],
   "source": [
    "dimList2 = [];\n",
    "for c in range(2000):\n",
    "    im = open('./bigboyg/pp' + str (c) + '.json')\n",
    "    data = json.load(im)\n",
    "    newdata = []\n",
    "    for i in range(len(data)-1):\n",
    "        newdata.append([])\n",
    "        for j in range(len(data[0])):\n",
    "            a = 0;\n",
    "            if data[i][j] == \"red\":\n",
    "                a = 0;\n",
    "            elif data[i][j] ==\"blue\":\n",
    "                a = 1;\n",
    "            elif data[i][j] == \"black\":\n",
    "                a = 2;\n",
    "            else:\n",
    "                a = 3\n",
    "            newdata[-1].append(a)\n",
    "    newdata = np.array(newdata)\n",
    "    y0 = boxCount(newdata, 5);\n",
    "    y1 = boxCount(newdata,25);\n",
    "    dimList2.append(-(np.log(y0)-np.log(y1))/(np.log(5)-np.log(25)))\n"
   ]
  },
  {
   "cell_type": "code",
   "execution_count": 51,
   "metadata": {},
   "outputs": [
    {
     "data": {
      "text/plain": [
       "<matplotlib.collections.PathCollection at 0x2a5b9308e20>"
      ]
     },
     "execution_count": 51,
     "metadata": {},
     "output_type": "execute_result"
    },
    {
     "data": {
      "image/png": "[encoded data removed]",
      "text/plain": [
       "<Figure size 432x288 with 1 Axes>"
      ]
     },
     "metadata": {
      "needs_background": "light"
     },
     "output_type": "display_data"
    }
   ],
   "source": [
    "plt.scatter(range(len(dimList)+len(dimList2)), dimList+dimList2, s=0.6)"
   ]
  },
  {
   "cell_type": "code",
   "execution_count": 15,
   "metadata": {},
   "outputs": [],
   "source": [
    "newdata = []\n",
    "for i in range(len(data)):\n",
    "    newdata.append([])\n",
    "    for j in range(len(data[0])):\n",
    "        a = 0;\n",
    "        if data[i][j] == \"red\":\n",
    "            a = 0;\n",
    "        elif data[i][j] ==\"blue\":\n",
    "            a = 1;\n",
    "        elif data[i][j] == \"black\":\n",
    "            a = 2;\n",
    "        else:\n",
    "            a = 3\n",
    "        newdata[-1].append(a)\n",
    "newdata = np.array(newdata)"
   ]
  },
  {
   "cell_type": "code",
   "execution_count": 16,
   "metadata": {},
   "outputs": [],
   "source": [
    "x = factors(200);\n",
    "y = [];\n",
    "for i in range(len(x)):\n",
    "    y.append(boxCount(newdata, x[i]))\n",
    "y = np.array(y)"
   ]
  },
  {
   "cell_type": "code",
   "execution_count": 17,
   "metadata": {},
   "outputs": [
    {
     "data": {
      "text/plain": [
       "[<matplotlib.lines.Line2D at 0x2a5b5a686a0>]"
      ]
     },
     "execution_count": 17,
     "metadata": {},
     "output_type": "execute_result"
    },
    {
     "data": {
      "image/png": "[encoded data removed]",
      "text/plain": [
       "<Figure size 432x288 with 1 Axes>"
      ]
     },
     "metadata": {
      "needs_background": "light"
     },
     "output_type": "display_data"
    }
   ],
   "source": [
    "plt.scatter(np.log(x),np.log(y))\n",
    "plt.plot(np.linspace(0,7, 10), 9.8-1.8206741023950503*np.linspace(0,7,10))"
   ]
  },
  {
   "cell_type": "code",
   "execution_count": 13,
   "metadata": {},
   "outputs": [
    {
     "data": {
      "text/plain": [
       "1.8930070498835898"
      ]
     },
     "execution_count": 13,
     "metadata": {},
     "output_type": "execute_result"
    }
   ],
   "source": [
    "dim = -(np.log(y[-1])-np.log(y[2]))/(np.log(x[-1])-np.log(x[2]))\n",
    "dim"
   ]
  },
  {
   "cell_type": "code",
   "execution_count": null,
   "metadata": {},
   "outputs": [],
   "source": []
  }
 ],
 "metadata": {
  "interpreter": {
   "hash": "0b94c482ce91e402b56434c1f1aa434378a7229f34957483aae7b372ff11d452"
  },
  "kernelspec": {
   "display_name": "Python 3.9.5 64-bit",
   "language": "python",
   "name": "python3"
  },
  "language_info": {
   "codemirror_mode": {
    "name": "ipython",
    "version": 3
   },
   "file_extension": ".py",
   "mimetype": "text/x-python",
   "name": "python",
   "nbconvert_exporter": "python",
   "pygments_lexer": "ipython3",
   "version": "3.9.5"
  },
  "orig_nbformat": 4
 },
 "nbformat": 4,
 "nbformat_minor": 2
}
